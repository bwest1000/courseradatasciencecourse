{
 "cells": [
  {
   "cell_type": "markdown",
   "id": "d4228535-be21-4fa5-b257-910e633aa2a2",
   "metadata": {},
   "source": [
    "# My Jupyter Notebook on IBM Watson Studio"
   ]
  },
  {
   "cell_type": "markdown",
   "id": "4a89c42a-8704-4fa4-9287-c153575a0226",
   "metadata": {},
   "source": [
    "**Bryan West**<br>Operations Analyst"
   ]
  },
  {
   "cell_type": "markdown",
   "id": "77935ca6-50f5-48d9-874f-6ee279523ca2",
   "metadata": {},
   "source": [
    "*I am interested in data science because I love being a detective with data to reveal and tell a story and make predictions. I find creating automations to simply processes to be exciting. And there is good money to be made as a Data Scientist or Data Engineer.*"
   ]
  },
  {
   "cell_type": "markdown",
   "id": "aebf65e8-b83d-4790-8c1e-f7e3a1b27b78",
   "metadata": {},
   "source": [
    "### The following code in cell 5 calculates the sum of 1 + 1:"
   ]
  },
  {
   "cell_type": "code",
   "execution_count": 2,
   "id": "a774e83e-2101-494a-b353-2ec8c2805419",
   "metadata": {},
   "outputs": [
    {
     "data": {
      "text/plain": [
       "2"
      ]
     },
     "execution_count": 2,
     "metadata": {},
     "output_type": "execute_result"
    }
   ],
   "source": [
    "1 + 1"
   ]
  },
  {
   "cell_type": "markdown",
   "id": "ab56e994-7c32-4fe8-8765-cedac537c979",
   "metadata": {},
   "source": [
    "> ##### To-Do List:\n",
    ">\n",
    "> - Gym\n",
    "> - Tan \n",
    "> - Laundry\n",
    ">\n",
    "> -------------------------\n",
    ">\n",
    "> ##### Grocery List:\n",
    ">\n",
    "> 1. Milk\n",
    "> 2. Eggs\n",
    "> 3. Oatmeal\n",
    "> 4. Orange Juice\n",
    "> 5. Chicken\n",
    ">\n",
    "\n",
    ">\n"
   ]
  },
  {
   "cell_type": "code",
   "execution_count": null,
   "id": "2d470d90-41e7-47f9-a07c-53fc6036ad0e",
   "metadata": {},
   "outputs": [],
   "source": []
  }
 ],
 "metadata": {
  "kernelspec": {
   "display_name": "Python",
   "language": "python",
   "name": "conda-env-python-py"
  },
  "language_info": {
   "codemirror_mode": {
    "name": "ipython",
    "version": 3
   },
   "file_extension": ".py",
   "mimetype": "text/x-python",
   "name": "python",
   "nbconvert_exporter": "python",
   "pygments_lexer": "ipython3",
   "version": "3.7.12"
  }
 },
 "nbformat": 4,
 "nbformat_minor": 5
}
